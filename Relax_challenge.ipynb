{
 "cells": [
  {
   "cell_type": "markdown",
   "metadata": {},
   "source": [
    "# Data Wrangling"
   ]
  },
  {
   "cell_type": "code",
   "execution_count": 307,
   "metadata": {},
   "outputs": [],
   "source": [
    "import pandas as pd\n",
    "from datetime import datetime\n",
    "from datetime import timedelta\n",
    "import numpy as np\n",
    "import matplotlib.pyplot as plt"
   ]
  },
  {
   "cell_type": "code",
   "execution_count": 313,
   "metadata": {},
   "outputs": [],
   "source": [
    "folder = 'C:/DS/Springboard/relax_challenge/'\n",
    "user_df = pd.read_csv(folder+'takehome_users.csv',encoding = \"ISO-8859-1\")\n",
    "login_df = pd.read_csv(folder+'takehome_user_engagement.csv',encoding = \"ISO-8859-1\")"
   ]
  },
  {
   "cell_type": "code",
   "execution_count": 309,
   "metadata": {},
   "outputs": [
    {
     "name": "stdout",
     "output_type": "stream",
     "text": [
      "   object_id        creation_time               name  \\\n",
      "0          1  2014-04-22 03:53:30     Clausen August   \n",
      "1          2  2013-11-15 03:45:04      Poole Matthew   \n",
      "2          3  2013-03-19 23:14:52  Bottrill Mitchell   \n",
      "3          4  2013-05-21 08:09:28    Clausen Nicklas   \n",
      "4          5  2013-01-17 10:14:20          Raw Grace   \n",
      "\n",
      "                        email creation_source  last_session_creation_time  \\\n",
      "0    AugustCClausen@yahoo.com    GUEST_INVITE                1.398139e+09   \n",
      "1      MatthewPoole@gustr.com      ORG_INVITE                1.396238e+09   \n",
      "2  MitchellBottrill@gustr.com      ORG_INVITE                1.363735e+09   \n",
      "3   NicklasSClausen@yahoo.com    GUEST_INVITE                1.369210e+09   \n",
      "4          GraceRaw@yahoo.com    GUEST_INVITE                1.358850e+09   \n",
      "\n",
      "   opted_in_to_mailing_list  enabled_for_marketing_drip  org_id  \\\n",
      "0                         1                           0      11   \n",
      "1                         0                           0       1   \n",
      "2                         0                           0      94   \n",
      "3                         0                           0       1   \n",
      "4                         0                           0     193   \n",
      "\n",
      "   invited_by_user_id  \n",
      "0             10803.0  \n",
      "1               316.0  \n",
      "2              1525.0  \n",
      "3              5151.0  \n",
      "4              5240.0  \n",
      "<class 'pandas.core.frame.DataFrame'>\n",
      "RangeIndex: 12000 entries, 0 to 11999\n",
      "Data columns (total 10 columns):\n",
      "object_id                     12000 non-null int64\n",
      "creation_time                 12000 non-null object\n",
      "name                          12000 non-null object\n",
      "email                         12000 non-null object\n",
      "creation_source               12000 non-null object\n",
      "last_session_creation_time    8823 non-null float64\n",
      "opted_in_to_mailing_list      12000 non-null int64\n",
      "enabled_for_marketing_drip    12000 non-null int64\n",
      "org_id                        12000 non-null int64\n",
      "invited_by_user_id            6417 non-null float64\n",
      "dtypes: float64(2), int64(4), object(4)\n",
      "memory usage: 937.6+ KB\n",
      "None\n"
     ]
    }
   ],
   "source": [
    "print(user_df.head())\n",
    "print(user_df.info())"
   ]
  },
  {
   "cell_type": "code",
   "execution_count": 302,
   "metadata": {},
   "outputs": [
    {
     "name": "stdout",
     "output_type": "stream",
     "text": [
      "            time_stamp  user_id  visited\n",
      "0  2014-04-22 03:53:30        1        1\n",
      "1  2013-11-15 03:45:04        2        1\n",
      "2  2013-11-29 03:45:04        2        1\n",
      "3  2013-12-09 03:45:04        2        1\n",
      "4  2013-12-25 03:45:04        2        1\n",
      "<class 'pandas.core.frame.DataFrame'>\n",
      "RangeIndex: 207917 entries, 0 to 207916\n",
      "Data columns (total 3 columns):\n",
      "time_stamp    207917 non-null object\n",
      "user_id       207917 non-null int64\n",
      "visited       207917 non-null int64\n",
      "dtypes: int64(2), object(1)\n",
      "memory usage: 4.8+ MB\n",
      "None\n"
     ]
    }
   ],
   "source": [
    "print(login_df.head())\n",
    "print(login_df.info())"
   ]
  },
  {
   "cell_type": "code",
   "execution_count": 317,
   "metadata": {},
   "outputs": [],
   "source": [
    "# convert object time series to datetime\n",
    "user_df['creation_time'] = pd.to_datetime(user_df['creation_time'],format='%Y/%m/%d %H:%M:%S', errors='coerce')\n",
    "user_df['last_session_creation_time'] = pd.to_datetime(user_df['last_session_creation_time'],unit='s') # convert unix time \n"
   ]
  },
  {
   "cell_type": "code",
   "execution_count": 318,
   "metadata": {},
   "outputs": [
    {
     "data": {
      "text/html": [
       "<div>\n",
       "<style scoped>\n",
       "    .dataframe tbody tr th:only-of-type {\n",
       "        vertical-align: middle;\n",
       "    }\n",
       "\n",
       "    .dataframe tbody tr th {\n",
       "        vertical-align: top;\n",
       "    }\n",
       "\n",
       "    .dataframe thead th {\n",
       "        text-align: right;\n",
       "    }\n",
       "</style>\n",
       "<table border=\"1\" class=\"dataframe\">\n",
       "  <thead>\n",
       "    <tr style=\"text-align: right;\">\n",
       "      <th></th>\n",
       "      <th>object_id</th>\n",
       "      <th>creation_time</th>\n",
       "      <th>name</th>\n",
       "      <th>email</th>\n",
       "      <th>creation_source</th>\n",
       "      <th>last_session_creation_time</th>\n",
       "      <th>opted_in_to_mailing_list</th>\n",
       "      <th>enabled_for_marketing_drip</th>\n",
       "      <th>org_id</th>\n",
       "      <th>invited_by_user_id</th>\n",
       "      <th>email_address</th>\n",
       "      <th>email_company</th>\n",
       "    </tr>\n",
       "  </thead>\n",
       "  <tbody>\n",
       "    <tr>\n",
       "      <th>0</th>\n",
       "      <td>1</td>\n",
       "      <td>2014-04-22 03:53:30</td>\n",
       "      <td>Clausen August</td>\n",
       "      <td>AugustCClausen@yahoo.com</td>\n",
       "      <td>GUEST_INVITE</td>\n",
       "      <td>2014-04-22 03:53:30</td>\n",
       "      <td>1</td>\n",
       "      <td>0</td>\n",
       "      <td>11</td>\n",
       "      <td>10803.0</td>\n",
       "      <td>AugustCClausen</td>\n",
       "      <td>yahoocom</td>\n",
       "    </tr>\n",
       "    <tr>\n",
       "      <th>1</th>\n",
       "      <td>2</td>\n",
       "      <td>2013-11-15 03:45:04</td>\n",
       "      <td>Poole Matthew</td>\n",
       "      <td>MatthewPoole@gustr.com</td>\n",
       "      <td>ORG_INVITE</td>\n",
       "      <td>2014-03-31 03:45:04</td>\n",
       "      <td>0</td>\n",
       "      <td>0</td>\n",
       "      <td>1</td>\n",
       "      <td>316.0</td>\n",
       "      <td>MatthewPoole</td>\n",
       "      <td>gustrcom</td>\n",
       "    </tr>\n",
       "    <tr>\n",
       "      <th>2</th>\n",
       "      <td>3</td>\n",
       "      <td>2013-03-19 23:14:52</td>\n",
       "      <td>Bottrill Mitchell</td>\n",
       "      <td>MitchellBottrill@gustr.com</td>\n",
       "      <td>ORG_INVITE</td>\n",
       "      <td>2013-03-19 23:14:52</td>\n",
       "      <td>0</td>\n",
       "      <td>0</td>\n",
       "      <td>94</td>\n",
       "      <td>1525.0</td>\n",
       "      <td>MitchellBottrill</td>\n",
       "      <td>gustrcom</td>\n",
       "    </tr>\n",
       "    <tr>\n",
       "      <th>3</th>\n",
       "      <td>4</td>\n",
       "      <td>2013-05-21 08:09:28</td>\n",
       "      <td>Clausen Nicklas</td>\n",
       "      <td>NicklasSClausen@yahoo.com</td>\n",
       "      <td>GUEST_INVITE</td>\n",
       "      <td>2013-05-22 08:09:28</td>\n",
       "      <td>0</td>\n",
       "      <td>0</td>\n",
       "      <td>1</td>\n",
       "      <td>5151.0</td>\n",
       "      <td>NicklasSClausen</td>\n",
       "      <td>yahoocom</td>\n",
       "    </tr>\n",
       "    <tr>\n",
       "      <th>4</th>\n",
       "      <td>5</td>\n",
       "      <td>2013-01-17 10:14:20</td>\n",
       "      <td>Raw Grace</td>\n",
       "      <td>GraceRaw@yahoo.com</td>\n",
       "      <td>GUEST_INVITE</td>\n",
       "      <td>2013-01-22 10:14:20</td>\n",
       "      <td>0</td>\n",
       "      <td>0</td>\n",
       "      <td>193</td>\n",
       "      <td>5240.0</td>\n",
       "      <td>GraceRaw</td>\n",
       "      <td>yahoocom</td>\n",
       "    </tr>\n",
       "  </tbody>\n",
       "</table>\n",
       "</div>"
      ],
      "text/plain": [
       "   object_id       creation_time               name  \\\n",
       "0          1 2014-04-22 03:53:30     Clausen August   \n",
       "1          2 2013-11-15 03:45:04      Poole Matthew   \n",
       "2          3 2013-03-19 23:14:52  Bottrill Mitchell   \n",
       "3          4 2013-05-21 08:09:28    Clausen Nicklas   \n",
       "4          5 2013-01-17 10:14:20          Raw Grace   \n",
       "\n",
       "                        email creation_source last_session_creation_time  \\\n",
       "0    AugustCClausen@yahoo.com    GUEST_INVITE        2014-04-22 03:53:30   \n",
       "1      MatthewPoole@gustr.com      ORG_INVITE        2014-03-31 03:45:04   \n",
       "2  MitchellBottrill@gustr.com      ORG_INVITE        2013-03-19 23:14:52   \n",
       "3   NicklasSClausen@yahoo.com    GUEST_INVITE        2013-05-22 08:09:28   \n",
       "4          GraceRaw@yahoo.com    GUEST_INVITE        2013-01-22 10:14:20   \n",
       "\n",
       "   opted_in_to_mailing_list  enabled_for_marketing_drip  org_id  \\\n",
       "0                         1                           0      11   \n",
       "1                         0                           0       1   \n",
       "2                         0                           0      94   \n",
       "3                         0                           0       1   \n",
       "4                         0                           0     193   \n",
       "\n",
       "   invited_by_user_id     email_address email_company  \n",
       "0             10803.0    AugustCClausen      yahoocom  \n",
       "1               316.0      MatthewPoole      gustrcom  \n",
       "2              1525.0  MitchellBottrill      gustrcom  \n",
       "3              5151.0   NicklasSClausen      yahoocom  \n",
       "4              5240.0          GraceRaw      yahoocom  "
      ]
     },
     "execution_count": 318,
     "metadata": {},
     "output_type": "execute_result"
    }
   ],
   "source": [
    "# split email address\n",
    "user_df[['email_address','email_company']] = user_df['email'].str.split('@',expand=True)\n",
    "# drop all punctuation in email company column\n",
    "import string\n",
    "#user_df['email_company'] = user_df['email_company'].apply(lambda x: x.replace(string.punctuation,''))  # does not work\n",
    "exclude = set(string.punctuation)\n",
    "user_df['email_company'] = user_df['email_company'].apply(lambda x: ''.join(ch for ch in x if ch not in exclude))\n",
    "\n",
    "user_df.head()"
   ]
  },
  {
   "cell_type": "markdown",
   "metadata": {},
   "source": [
    "<div class=\"alert alert-success\">\n",
    "<b>Summary of Data Wrangling: </b>   \n",
    "- user_df has 10 columns, including information such as user id, account creation time, user name, email, last session creation time, opted to mailing list, enabled_for_marketing_drip, creation source, orgnization id, invited_by_user_id. In particular, two columns \"last_session_creation_time\" and \"invited_by_user_id\" have NULL values  \n",
    "- user email in user_df is splited since the email suffix can be a more useful feature than the name part  \n",
    "- login_df has 3 columns including login time, user id, and visit \n",
    "</div>"
   ]
  },
  {
   "cell_type": "markdown",
   "metadata": {},
   "source": [
    "# Find adopted user"
   ]
  },
  {
   "cell_type": "code",
   "execution_count": 319,
   "metadata": {},
   "outputs": [
    {
     "name": "stdout",
     "output_type": "stream",
     "text": [
      "           time_stamp  user_id  visited           day_dif\n",
      "0 2014-04-22 03:53:30        1        1               NaN\n",
      "1 2013-11-15 03:45:04        2        1               NaT\n",
      "2 2013-11-29 03:45:04        2        1  14 days 00:00:00\n",
      "3 2013-12-09 03:45:04        2        1  10 days 00:00:00\n",
      "4 2013-12-25 03:45:04        2        1  16 days 00:00:00\n",
      "0\n"
     ]
    }
   ],
   "source": [
    "login_df['time_stamp'] = pd.to_datetime(login_df['time_stamp'],format='%Y/%m/%d %H:%M:%S', errors='coerce')\n",
    "login_df['day_dif'] = login_df.groupby('user_id')['time_stamp'].apply(lambda x: x.dt.date.diff())\n",
    "print(login_df.head())\n",
    "# check if any login is within a day\n",
    "print(len(login_df[login_df.day_dif == timedelta(days=0)]))"
   ]
  },
  {
   "cell_type": "code",
   "execution_count": 320,
   "metadata": {},
   "outputs": [
    {
     "name": "stdout",
     "output_type": "stream",
     "text": [
      "    user_id          time_stamp  visit_count\n",
      "0         1 2014-04-22 03:53:30          1.0\n",
      "1         2 2013-11-15 03:45:04          1.0\n",
      "2         2 2013-11-29 03:45:04          1.0\n",
      "3         2 2013-12-09 03:45:04          1.0\n",
      "4         2 2013-12-25 03:45:04          1.0\n",
      "5         2 2013-12-31 03:45:04          2.0\n",
      "6         2 2014-01-08 03:45:04          1.0\n",
      "7         2 2014-02-03 03:45:04          1.0\n",
      "8         2 2014-02-08 03:45:04          2.0\n",
      "9         2 2014-02-09 03:45:04          3.0\n",
      "10        2 2014-02-13 03:45:04          3.0\n",
      "11        2 2014-02-16 03:45:04          2.0\n",
      "12        2 2014-03-09 03:45:04          1.0\n",
      "13        2 2014-03-13 03:45:04          2.0\n",
      "14        2 2014-03-31 03:45:04          1.0\n",
      "1602\n"
     ]
    }
   ],
   "source": [
    "# count days of logins using a 7-day rolling window\n",
    "login_user = login_df.set_index('time_stamp').groupby('user_id').rolling('7d')[\"visited\"].count().reset_index(name='visit_count')\n",
    "print(login_user.head(15))\n",
    "# find adopted users\n",
    "adp_user = login_user[login_user.visit_count >= 3]['user_id'].drop_duplicates()\n",
    "adp_user = adp_user.reset_index()\n",
    "print(len(adp_user))"
   ]
  },
  {
   "cell_type": "code",
   "execution_count": 321,
   "metadata": {},
   "outputs": [
    {
     "name": "stdout",
     "output_type": "stream",
     "text": [
      "8823\n"
     ]
    },
    {
     "data": {
      "text/html": [
       "<div>\n",
       "<style scoped>\n",
       "    .dataframe tbody tr th:only-of-type {\n",
       "        vertical-align: middle;\n",
       "    }\n",
       "\n",
       "    .dataframe tbody tr th {\n",
       "        vertical-align: top;\n",
       "    }\n",
       "\n",
       "    .dataframe thead th {\n",
       "        text-align: right;\n",
       "    }\n",
       "</style>\n",
       "<table border=\"1\" class=\"dataframe\">\n",
       "  <thead>\n",
       "    <tr style=\"text-align: right;\">\n",
       "      <th></th>\n",
       "      <th>index</th>\n",
       "      <th>user_id</th>\n",
       "    </tr>\n",
       "  </thead>\n",
       "  <tbody>\n",
       "    <tr>\n",
       "      <th>0</th>\n",
       "      <td>9</td>\n",
       "      <td>2</td>\n",
       "    </tr>\n",
       "    <tr>\n",
       "      <th>1</th>\n",
       "      <td>27</td>\n",
       "      <td>10</td>\n",
       "    </tr>\n",
       "    <tr>\n",
       "      <th>2</th>\n",
       "      <td>312</td>\n",
       "      <td>20</td>\n",
       "    </tr>\n",
       "    <tr>\n",
       "      <th>3</th>\n",
       "      <td>331</td>\n",
       "      <td>33</td>\n",
       "    </tr>\n",
       "    <tr>\n",
       "      <th>4</th>\n",
       "      <td>354</td>\n",
       "      <td>42</td>\n",
       "    </tr>\n",
       "  </tbody>\n",
       "</table>\n",
       "</div>"
      ],
      "text/plain": [
       "   index  user_id\n",
       "0      9        2\n",
       "1     27       10\n",
       "2    312       20\n",
       "3    331       33\n",
       "4    354       42"
      ]
     },
     "execution_count": 321,
     "metadata": {},
     "output_type": "execute_result"
    }
   ],
   "source": [
    "print(len(login_df.user_id.unique()))\n",
    "adp_user[:5]"
   ]
  },
  {
   "cell_type": "code",
   "execution_count": 322,
   "metadata": {},
   "outputs": [
    {
     "name": "stdout",
     "output_type": "stream",
     "text": [
      "1602\n",
      "0    0\n",
      "1    1\n",
      "2    0\n",
      "3    0\n",
      "4    0\n",
      "Name: adopted, dtype: int64\n"
     ]
    }
   ],
   "source": [
    "# add a column in the user_df to represent whether the user is adopted\n",
    "user_df['adopted'] = 0\n",
    "user_df.loc[user_df.object_id.isin(adp_user.user_id),'adopted'] = 1\n",
    "print(user_df['adopted'].sum())\n",
    "print(user_df['adopted'].iloc[0:5])"
   ]
  },
  {
   "cell_type": "markdown",
   "metadata": {},
   "source": [
    "# Exploratory Data Analysis"
   ]
  },
  {
   "cell_type": "code",
   "execution_count": 323,
   "metadata": {},
   "outputs": [],
   "source": [
    "import seaborn as sns\n",
    "color = sns.color_palette()"
   ]
  },
  {
   "cell_type": "code",
   "execution_count": 324,
   "metadata": {},
   "outputs": [
    {
     "data": {
      "image/png": "[encoded data removed]",
      "text/plain": [
       "<matplotlib.figure.Figure at 0x15a97b4f898>"
      ]
     },
     "metadata": {},
     "output_type": "display_data"
    }
   ],
   "source": [
    "user_df.groupby('opted_in_to_mailing_list')['adopted'].mean().plot(kind='bar')\n",
    "plt.ylabel('adopted user percentage')\n",
    "plt.show()"
   ]
  },
  {
   "cell_type": "code",
   "execution_count": 325,
   "metadata": {},
   "outputs": [
    {
     "data": {
      "image/png": "[encoded data removed]",
      "text/plain": [
       "<matplotlib.figure.Figure at 0x15a9927e7b8>"
      ]
     },
     "metadata": {},
     "output_type": "display_data"
    }
   ],
   "source": [
    "user_df.groupby('enabled_for_marketing_drip')['adopted'].mean().plot(kind='bar')\n",
    "plt.ylabel('adopted user percentage')\n",
    "plt.show()"
   ]
  },
  {
   "cell_type": "code",
   "execution_count": 326,
   "metadata": {},
   "outputs": [
    {
     "data": {
      "image/png": "[encoded data removed]",
      "text/plain": [
       "<matplotlib.figure.Figure at 0x15aa0412b38>"
      ]
     },
     "metadata": {},
     "output_type": "display_data"
    }
   ],
   "source": [
    "user_df.groupby('creation_source')['adopted'].mean().plot(kind='bar')\n",
    "plt.ylabel('adopted user percentage')\n",
    "plt.show()"
   ]
  },
  {
   "cell_type": "code",
   "execution_count": 327,
   "metadata": {},
   "outputs": [
    {
     "data": {
      "image/png": "[encoded data removed]",
      "text/plain": [
       "<matplotlib.figure.Figure at 0x15a9a00d128>"
      ]
     },
     "metadata": {},
     "output_type": "display_data"
    }
   ],
   "source": [
    "user_org = user_df.groupby('org_id')['adopted'].mean().reset_index(name='org_mean').sort_values(by='org_mean',ascending=False)\n",
    "user_org.iloc[:10,1].plot(kind='bar',color=color[0])\n",
    "plt.ylabel('adopted user percentage')\n",
    "plt.xlabel('org_id')\n",
    "plt.show()"
   ]
  },
  {
   "cell_type": "code",
   "execution_count": 328,
   "metadata": {},
   "outputs": [
    {
     "data": {
      "image/png": "[encoded data removed]",
      "text/plain": [
       "<matplotlib.figure.Figure at 0x15aa04a9da0>"
      ]
     },
     "metadata": {},
     "output_type": "display_data"
    }
   ],
   "source": [
    "user_email = user_df.groupby('email_company')['adopted'].mean().reset_index(name='email_mean').sort_values(by='email_mean',ascending=False)\n",
    "user_email.iloc[:10,:].plot(x='email_company', y='email_mean', kind='bar',color=color[0])\n",
    "plt.ylabel('adopted user percentage')\n",
    "plt.xlabel('email_suffix')\n",
    "plt.show()"
   ]
  },
  {
   "cell_type": "code",
   "execution_count": 329,
   "metadata": {},
   "outputs": [
    {
     "name": "stdout",
     "output_type": "stream",
     "text": [
      "729 days 23:15:52\n",
      "736 days 06:38:44\n"
     ]
    },
    {
     "data": {
      "image/png": "[encoded data removed]",
      "text/plain": [
       "<matplotlib.figure.Figure at 0x15aa0412d30>"
      ]
     },
     "metadata": {},
     "output_type": "display_data"
    }
   ],
   "source": [
    "print(max(user_df['creation_time'])-min(user_df['creation_time']))\n",
    "print(max(user_df['last_session_creation_time'])-min(user_df['last_session_creation_time']))\n",
    "user_df_cre = user_df.set_index('creation_time')\n",
    "user_cre = user_df_cre['adopted'].resample('1d').mean()\n",
    "user_df_lst = user_df.set_index('last_session_creation_time')\n",
    "user_lst = user_df_lst['adopted'].resample('1d').mean()\n",
    "\n",
    "fig = plt.figure(figsize=(10,4))\n",
    "a = fig.add_subplot(121)\n",
    "user_cre.plot()\n",
    "\n",
    "b = fig.add_subplot(122)\n",
    "user_lst.plot()\n",
    "\n",
    "plt.show()"
   ]
  },
  {
   "cell_type": "code",
   "execution_count": 330,
   "metadata": {},
   "outputs": [
    {
     "data": {
      "image/png": "[encoded data removed]",
      "text/plain": [
       "<matplotlib.figure.Figure at 0x15a9dbbfe48>"
      ]
     },
     "metadata": {},
     "output_type": "display_data"
    }
   ],
   "source": [
    "user_df.groupby(user_df.creation_time.dt.hour)['adopted'].mean().plot(kind=\"bar\",color=color[0])\n",
    "plt.xlabel('creation time: hour of day')\n",
    "plt.ylabel('mean adoped user percentage')\n",
    "plt.show()"
   ]
  },
  {
   "cell_type": "code",
   "execution_count": 331,
   "metadata": {},
   "outputs": [
    {
     "data": {
      "image/png": "[encoded data removed]",
      "text/plain": [
       "<matplotlib.figure.Figure at 0x15a9fb08048>"
      ]
     },
     "metadata": {},
     "output_type": "display_data"
    }
   ],
   "source": [
    "user_df.groupby(user_df.creation_time.dt.weekday)['adopted'].mean().plot(kind=\"bar\",color=color[0])\n",
    "plt.xlabel('creation time: day of week')\n",
    "plt.ylabel('mean adoped user percentage')\n",
    "plt.show()"
   ]
  },
  {
   "cell_type": "code",
   "execution_count": 332,
   "metadata": {},
   "outputs": [
    {
     "data": {
      "image/png": "[encoded data removed]",
      "text/plain": [
       "<matplotlib.figure.Figure at 0x15a9fb08eb8>"
      ]
     },
     "metadata": {},
     "output_type": "display_data"
    }
   ],
   "source": [
    "user_df.groupby(user_df.creation_time.dt.day)['adopted'].mean().plot(kind=\"bar\",color=color[0])\n",
    "plt.xlabel('creation time: day of month')\n",
    "plt.ylabel('mean adoped user percentage')\n",
    "plt.show()"
   ]
  },
  {
   "cell_type": "code",
   "execution_count": 333,
   "metadata": {},
   "outputs": [
    {
     "data": {
      "image/png": "[encoded data removed]",
      "text/plain": [
       "<matplotlib.figure.Figure at 0x15a9f33dfd0>"
      ]
     },
     "metadata": {},
     "output_type": "display_data"
    }
   ],
   "source": [
    "user_df.groupby(user_df.creation_time.dt.month)['adopted'].mean().plot(kind=\"bar\",color=color[0])\n",
    "plt.xlabel('creation time: month')\n",
    "plt.ylabel('mean adoped user percentage')\n",
    "plt.show()"
   ]
  },
  {
   "cell_type": "code",
   "execution_count": 334,
   "metadata": {},
   "outputs": [
    {
     "data": {
      "image/png": "[encoded data removed]",
      "text/plain": [
       "<matplotlib.figure.Figure at 0x15a9b317d30>"
      ]
     },
     "metadata": {},
     "output_type": "display_data"
    }
   ],
   "source": [
    "user_df.groupby(user_df.last_session_creation_time.dt.month)['adopted'].mean().plot(kind=\"bar\",color=color[0])\n",
    "plt.xlabel('last_session_creation_time: month')\n",
    "plt.ylabel('mean adoped user percentage')\n",
    "plt.show()"
   ]
  },
  {
   "cell_type": "code",
   "execution_count": 335,
   "metadata": {},
   "outputs": [
    {
     "data": {
      "image/png": "[encoded data removed]",
      "text/plain": [
       "<matplotlib.figure.Figure at 0x15a99144710>"
      ]
     },
     "metadata": {},
     "output_type": "display_data"
    }
   ],
   "source": [
    "user_df.groupby(user_df.last_session_creation_time.dt.weekday)['adopted'].mean().plot(kind=\"bar\",color=color[0])\n",
    "plt.xlabel('last_session_creation_time: day of week')\n",
    "plt.ylabel('mean adoped user percentage')\n",
    "plt.show()"
   ]
  },
  {
   "cell_type": "code",
   "execution_count": 338,
   "metadata": {},
   "outputs": [
    {
     "data": {
      "image/png": "[encoded data removed]",
      "text/plain": [
       "<matplotlib.figure.Figure at 0x15aa3cc1a58>"
      ]
     },
     "metadata": {},
     "output_type": "display_data"
    }
   ],
   "source": [
    "user_df.groupby(user_df.last_session_creation_time.dt.hour)['adopted'].mean().plot(kind=\"bar\",color=color[0])\n",
    "plt.xlabel('last_session_creation_time: hour')\n",
    "plt.ylabel('mean adoped user percentage')\n",
    "plt.show()"
   ]
  },
  {
   "cell_type": "code",
   "execution_count": 339,
   "metadata": {},
   "outputs": [
    {
     "data": {
      "image/png": "[encoded data removed]",
      "text/plain": [
       "<matplotlib.figure.Figure at 0x15aa3a3d9b0>"
      ]
     },
     "metadata": {},
     "output_type": "display_data"
    }
   ],
   "source": [
    "user_df.groupby(user_df.last_session_creation_time.dt.month)['adopted'].mean().plot(kind=\"bar\",color=color[0])\n",
    "plt.xlabel('last_session_creation_time: month')\n",
    "plt.ylabel('mean adoped user percentage')\n",
    "plt.show()"
   ]
  },
  {
   "cell_type": "code",
   "execution_count": 340,
   "metadata": {},
   "outputs": [
    {
     "data": {
      "image/png": "[encoded data removed]",
      "text/plain": [
       "<matplotlib.figure.Figure at 0x15a9a771f28>"
      ]
     },
     "metadata": {},
     "output_type": "display_data"
    }
   ],
   "source": [
    "user_df.groupby(user_df.last_session_creation_time.dt.year)['adopted'].mean().plot(kind=\"bar\",color=color[0])\n",
    "plt.xlabel('last_session_creation_time: year')\n",
    "plt.ylabel('mean adoped user percentage')\n",
    "plt.show()"
   ]
  },
  {
   "cell_type": "code",
   "execution_count": 341,
   "metadata": {},
   "outputs": [
    {
     "name": "stdout",
     "output_type": "stream",
     "text": [
      "0.12341035285688698\n",
      "0.1422783232039894\n"
     ]
    },
    {
     "data": {
      "image/png": "[encoded data removed]",
      "text/plain": [
       "<matplotlib.figure.Figure at 0x15a9e65b518>"
      ]
     },
     "metadata": {},
     "output_type": "display_data"
    }
   ],
   "source": [
    "print(user_df[user_df['invited_by_user_id'].isna()]['adopted'].mean())\n",
    "print(user_df[user_df['invited_by_user_id'] >= 0]['adopted'].mean())\n",
    "user_inv = user_df.groupby('invited_by_user_id')['adopted'].mean().reset_index(name='inv_mean').sort_values(by='inv_mean',ascending=False)\n",
    "user_inv.iloc[:10,:].plot(x='invited_by_user_id', y='inv_mean', kind='bar',color=color[0])\n",
    "plt.ylabel('adopted user percentage')\n",
    "plt.xlabel('invited_by_user_id')\n",
    "plt.show()"
   ]
  },
  {
   "cell_type": "markdown",
   "metadata": {},
   "source": [
    "<div class=\"alert alert-success\">\n",
    "<b> Summary of EDA: </b>  \n",
    "- 1602 (13.35%) users out of 12000 signed up users are adopted users: log into   the   product   on   three   separate \n",
    "days   in   at   least   one   seven-day   period  \n",
    "- 3177 (26%) users never log into the product after sign up  \n",
    "- Adopted user percentage is higher when users signed up by guest invitation or through google authorization, lowest when     users were invited   to   join   another   user's  personal   workspace   \n",
    "- Users from some organization have higher adopted user percentage than others  \n",
    "- Users with some email suffix such as @nhxrt.com, @xebtr.com have high adopted user percentage   \n",
    "- Users who signed up after 2014 April have lower adopted user percentage    \n",
    "- Users who signed up in April and May have low adopted user percentage   \n",
    "- Users who lastly signed in 2014 have high adopted user percentage  \n",
    "- Users who lastly signed in May and June have high adopted user percentage  \n",
    "- Users who lastly signed in on Wednesday have high adopted user percentage  \n",
    "- Users invited by some guests such as guest 3125, 8857, 7222 have high adopted user percentage\n",
    "\n",
    "</div>"
   ]
  },
  {
   "cell_type": "markdown",
   "metadata": {},
   "source": [
    "# Modeling"
   ]
  },
  {
   "cell_type": "code",
   "execution_count": 342,
   "metadata": {},
   "outputs": [
    {
     "name": "stdout",
     "output_type": "stream",
     "text": [
      "12000\n",
      "11629\n"
     ]
    }
   ],
   "source": [
    "print(len(user_df))\n",
    "\n",
    "# drop rows where email_company only occurs once and last_session_creation_time is NULL to remove fake account\n",
    "email_count = user_df['email_company'].value_counts().reset_index()\n",
    "email_count.columns = ['email_company','email_count']\n",
    "user_df = user_df.merge(email_count,on='email_company',how='left')\n",
    "user_df.drop(user_df[(user_df.last_session_creation_time.isna()) & (user_df['email_count'] == 1)].index,inplace=True)\n",
    "print(len(user_df))"
   ]
  },
  {
   "cell_type": "code",
   "execution_count": 362,
   "metadata": {},
   "outputs": [],
   "source": [
    "# fillna\n",
    "for i in np.arange(len(user_df)):\n",
    "    if pd.isnull(user_df.iloc[i]['last_session_creation_time']):        \n",
    "        user_df.iloc[i,5] = user_df.iloc[i,1]\n",
    "\n",
    "user_df.loc[user_df['invited_by_user_id'].isna(),'invited_by_user_id'] = -999\n",
    "\n",
    "# convert time series categorical data to numerical features\n",
    "user_df['creation_time_year'] = user_df.creation_time.dt.year\n",
    "user_df['creation_time_month'] = user_df.creation_time.dt.month\n",
    "user_df['last_session_year'] = user_df.last_session_creation_time.dt.year\n",
    "user_df['last_session_month'] = user_df.last_session_creation_time.dt.month\n",
    "user_df['last_session_dow'] = user_df.last_session_creation_time.dt.weekday\n"
   ]
  },
  {
   "cell_type": "code",
   "execution_count": 363,
   "metadata": {},
   "outputs": [
    {
     "data": {
      "text/html": [
       "<div>\n",
       "<style scoped>\n",
       "    .dataframe tbody tr th:only-of-type {\n",
       "        vertical-align: middle;\n",
       "    }\n",
       "\n",
       "    .dataframe tbody tr th {\n",
       "        vertical-align: top;\n",
       "    }\n",
       "\n",
       "    .dataframe thead th {\n",
       "        text-align: right;\n",
       "    }\n",
       "</style>\n",
       "<table border=\"1\" class=\"dataframe\">\n",
       "  <thead>\n",
       "    <tr style=\"text-align: right;\">\n",
       "      <th></th>\n",
       "      <th>object_id</th>\n",
       "      <th>creation_time</th>\n",
       "      <th>name</th>\n",
       "      <th>email</th>\n",
       "      <th>creation_source</th>\n",
       "      <th>last_session_creation_time</th>\n",
       "      <th>opted_in_to_mailing_list</th>\n",
       "      <th>enabled_for_marketing_drip</th>\n",
       "      <th>org_id</th>\n",
       "      <th>invited_by_user_id</th>\n",
       "      <th>...</th>\n",
       "      <th>email_company</th>\n",
       "      <th>adopted</th>\n",
       "      <th>email_count</th>\n",
       "      <th>creation_time_year</th>\n",
       "      <th>creation_time_month</th>\n",
       "      <th>last_session_year</th>\n",
       "      <th>last_session_month</th>\n",
       "      <th>last_session_dow</th>\n",
       "      <th>email_label</th>\n",
       "      <th>source_label</th>\n",
       "    </tr>\n",
       "  </thead>\n",
       "  <tbody>\n",
       "    <tr>\n",
       "      <th>0</th>\n",
       "      <td>1</td>\n",
       "      <td>2014-04-22 03:53:30</td>\n",
       "      <td>Clausen August</td>\n",
       "      <td>AugustCClausen@yahoo.com</td>\n",
       "      <td>GUEST_INVITE</td>\n",
       "      <td>2014-04-22 03:53:30</td>\n",
       "      <td>1</td>\n",
       "      <td>0</td>\n",
       "      <td>11</td>\n",
       "      <td>10803.0</td>\n",
       "      <td>...</td>\n",
       "      <td>yahoocom</td>\n",
       "      <td>0</td>\n",
       "      <td>2447</td>\n",
       "      <td>2014</td>\n",
       "      <td>4</td>\n",
       "      <td>2014</td>\n",
       "      <td>4</td>\n",
       "      <td>1</td>\n",
       "      <td>763.0</td>\n",
       "      <td>0.0</td>\n",
       "    </tr>\n",
       "    <tr>\n",
       "      <th>1</th>\n",
       "      <td>2</td>\n",
       "      <td>2013-11-15 03:45:04</td>\n",
       "      <td>Poole Matthew</td>\n",
       "      <td>MatthewPoole@gustr.com</td>\n",
       "      <td>ORG_INVITE</td>\n",
       "      <td>2014-03-31 03:45:04</td>\n",
       "      <td>0</td>\n",
       "      <td>0</td>\n",
       "      <td>1</td>\n",
       "      <td>316.0</td>\n",
       "      <td>...</td>\n",
       "      <td>gustrcom</td>\n",
       "      <td>1</td>\n",
       "      <td>1179</td>\n",
       "      <td>2013</td>\n",
       "      <td>11</td>\n",
       "      <td>2014</td>\n",
       "      <td>3</td>\n",
       "      <td>0</td>\n",
       "      <td>213.0</td>\n",
       "      <td>1.0</td>\n",
       "    </tr>\n",
       "    <tr>\n",
       "      <th>2</th>\n",
       "      <td>3</td>\n",
       "      <td>2013-03-19 23:14:52</td>\n",
       "      <td>Bottrill Mitchell</td>\n",
       "      <td>MitchellBottrill@gustr.com</td>\n",
       "      <td>ORG_INVITE</td>\n",
       "      <td>2013-03-19 23:14:52</td>\n",
       "      <td>0</td>\n",
       "      <td>0</td>\n",
       "      <td>94</td>\n",
       "      <td>1525.0</td>\n",
       "      <td>...</td>\n",
       "      <td>gustrcom</td>\n",
       "      <td>0</td>\n",
       "      <td>1179</td>\n",
       "      <td>2013</td>\n",
       "      <td>3</td>\n",
       "      <td>2013</td>\n",
       "      <td>3</td>\n",
       "      <td>1</td>\n",
       "      <td>213.0</td>\n",
       "      <td>1.0</td>\n",
       "    </tr>\n",
       "    <tr>\n",
       "      <th>3</th>\n",
       "      <td>4</td>\n",
       "      <td>2013-05-21 08:09:28</td>\n",
       "      <td>Clausen Nicklas</td>\n",
       "      <td>NicklasSClausen@yahoo.com</td>\n",
       "      <td>GUEST_INVITE</td>\n",
       "      <td>2013-05-22 08:09:28</td>\n",
       "      <td>0</td>\n",
       "      <td>0</td>\n",
       "      <td>1</td>\n",
       "      <td>5151.0</td>\n",
       "      <td>...</td>\n",
       "      <td>yahoocom</td>\n",
       "      <td>0</td>\n",
       "      <td>2447</td>\n",
       "      <td>2013</td>\n",
       "      <td>5</td>\n",
       "      <td>2013</td>\n",
       "      <td>5</td>\n",
       "      <td>2</td>\n",
       "      <td>763.0</td>\n",
       "      <td>0.0</td>\n",
       "    </tr>\n",
       "    <tr>\n",
       "      <th>4</th>\n",
       "      <td>5</td>\n",
       "      <td>2013-01-17 10:14:20</td>\n",
       "      <td>Raw Grace</td>\n",
       "      <td>GraceRaw@yahoo.com</td>\n",
       "      <td>GUEST_INVITE</td>\n",
       "      <td>2013-01-22 10:14:20</td>\n",
       "      <td>0</td>\n",
       "      <td>0</td>\n",
       "      <td>193</td>\n",
       "      <td>5240.0</td>\n",
       "      <td>...</td>\n",
       "      <td>yahoocom</td>\n",
       "      <td>0</td>\n",
       "      <td>2447</td>\n",
       "      <td>2013</td>\n",
       "      <td>1</td>\n",
       "      <td>2013</td>\n",
       "      <td>1</td>\n",
       "      <td>1</td>\n",
       "      <td>763.0</td>\n",
       "      <td>0.0</td>\n",
       "    </tr>\n",
       "    <tr>\n",
       "      <th>5</th>\n",
       "      <td>6</td>\n",
       "      <td>2013-12-17 03:37:06</td>\n",
       "      <td>Cunha Eduardo</td>\n",
       "      <td>EduardoPereiraCunha@yahoo.com</td>\n",
       "      <td>GUEST_INVITE</td>\n",
       "      <td>2013-12-19 03:37:06</td>\n",
       "      <td>0</td>\n",
       "      <td>0</td>\n",
       "      <td>197</td>\n",
       "      <td>11241.0</td>\n",
       "      <td>...</td>\n",
       "      <td>yahoocom</td>\n",
       "      <td>0</td>\n",
       "      <td>2447</td>\n",
       "      <td>2013</td>\n",
       "      <td>12</td>\n",
       "      <td>2013</td>\n",
       "      <td>12</td>\n",
       "      <td>3</td>\n",
       "      <td>763.0</td>\n",
       "      <td>0.0</td>\n",
       "    </tr>\n",
       "    <tr>\n",
       "      <th>6</th>\n",
       "      <td>7</td>\n",
       "      <td>2012-12-16 13:24:32</td>\n",
       "      <td>Sewell Tyler</td>\n",
       "      <td>TylerSewell@jourrapide.com</td>\n",
       "      <td>SIGNUP</td>\n",
       "      <td>2012-12-20 13:24:32</td>\n",
       "      <td>0</td>\n",
       "      <td>1</td>\n",
       "      <td>37</td>\n",
       "      <td>-999.0</td>\n",
       "      <td>...</td>\n",
       "      <td>jourrapidecom</td>\n",
       "      <td>0</td>\n",
       "      <td>1259</td>\n",
       "      <td>2012</td>\n",
       "      <td>12</td>\n",
       "      <td>2012</td>\n",
       "      <td>12</td>\n",
       "      <td>3</td>\n",
       "      <td>303.0</td>\n",
       "      <td>3.0</td>\n",
       "    </tr>\n",
       "    <tr>\n",
       "      <th>7</th>\n",
       "      <td>8</td>\n",
       "      <td>2013-07-31 05:34:02</td>\n",
       "      <td>Hamilton Danielle</td>\n",
       "      <td>DanielleHamilton@yahoo.com</td>\n",
       "      <td>PERSONAL_PROJECTS</td>\n",
       "      <td>2013-07-31 05:34:02</td>\n",
       "      <td>1</td>\n",
       "      <td>1</td>\n",
       "      <td>74</td>\n",
       "      <td>-999.0</td>\n",
       "      <td>...</td>\n",
       "      <td>yahoocom</td>\n",
       "      <td>0</td>\n",
       "      <td>2447</td>\n",
       "      <td>2013</td>\n",
       "      <td>7</td>\n",
       "      <td>2013</td>\n",
       "      <td>7</td>\n",
       "      <td>2</td>\n",
       "      <td>763.0</td>\n",
       "      <td>2.0</td>\n",
       "    </tr>\n",
       "    <tr>\n",
       "      <th>8</th>\n",
       "      <td>9</td>\n",
       "      <td>2013-11-05 04:04:24</td>\n",
       "      <td>Amsel Paul</td>\n",
       "      <td>PaulAmsel@hotmail.com</td>\n",
       "      <td>PERSONAL_PROJECTS</td>\n",
       "      <td>2013-11-05 04:04:24</td>\n",
       "      <td>0</td>\n",
       "      <td>0</td>\n",
       "      <td>302</td>\n",
       "      <td>-999.0</td>\n",
       "      <td>...</td>\n",
       "      <td>hotmailcom</td>\n",
       "      <td>0</td>\n",
       "      <td>1165</td>\n",
       "      <td>2013</td>\n",
       "      <td>11</td>\n",
       "      <td>2013</td>\n",
       "      <td>11</td>\n",
       "      <td>1</td>\n",
       "      <td>231.0</td>\n",
       "      <td>2.0</td>\n",
       "    </tr>\n",
       "    <tr>\n",
       "      <th>9</th>\n",
       "      <td>10</td>\n",
       "      <td>2013-01-16 22:08:03</td>\n",
       "      <td>Santos Carla</td>\n",
       "      <td>CarlaFerreiraSantos@gustr.com</td>\n",
       "      <td>ORG_INVITE</td>\n",
       "      <td>2014-06-03 22:08:03</td>\n",
       "      <td>1</td>\n",
       "      <td>1</td>\n",
       "      <td>318</td>\n",
       "      <td>4143.0</td>\n",
       "      <td>...</td>\n",
       "      <td>gustrcom</td>\n",
       "      <td>1</td>\n",
       "      <td>1179</td>\n",
       "      <td>2013</td>\n",
       "      <td>1</td>\n",
       "      <td>2014</td>\n",
       "      <td>6</td>\n",
       "      <td>1</td>\n",
       "      <td>213.0</td>\n",
       "      <td>1.0</td>\n",
       "    </tr>\n",
       "  </tbody>\n",
       "</table>\n",
       "<p>10 rows × 21 columns</p>\n",
       "</div>"
      ],
      "text/plain": [
       "   object_id       creation_time               name  \\\n",
       "0          1 2014-04-22 03:53:30     Clausen August   \n",
       "1          2 2013-11-15 03:45:04      Poole Matthew   \n",
       "2          3 2013-03-19 23:14:52  Bottrill Mitchell   \n",
       "3          4 2013-05-21 08:09:28    Clausen Nicklas   \n",
       "4          5 2013-01-17 10:14:20          Raw Grace   \n",
       "5          6 2013-12-17 03:37:06      Cunha Eduardo   \n",
       "6          7 2012-12-16 13:24:32       Sewell Tyler   \n",
       "7          8 2013-07-31 05:34:02  Hamilton Danielle   \n",
       "8          9 2013-11-05 04:04:24         Amsel Paul   \n",
       "9         10 2013-01-16 22:08:03       Santos Carla   \n",
       "\n",
       "                           email    creation_source  \\\n",
       "0       AugustCClausen@yahoo.com       GUEST_INVITE   \n",
       "1         MatthewPoole@gustr.com         ORG_INVITE   \n",
       "2     MitchellBottrill@gustr.com         ORG_INVITE   \n",
       "3      NicklasSClausen@yahoo.com       GUEST_INVITE   \n",
       "4             GraceRaw@yahoo.com       GUEST_INVITE   \n",
       "5  EduardoPereiraCunha@yahoo.com       GUEST_INVITE   \n",
       "6     TylerSewell@jourrapide.com             SIGNUP   \n",
       "7     DanielleHamilton@yahoo.com  PERSONAL_PROJECTS   \n",
       "8          PaulAmsel@hotmail.com  PERSONAL_PROJECTS   \n",
       "9  CarlaFerreiraSantos@gustr.com         ORG_INVITE   \n",
       "\n",
       "  last_session_creation_time  opted_in_to_mailing_list  \\\n",
       "0        2014-04-22 03:53:30                         1   \n",
       "1        2014-03-31 03:45:04                         0   \n",
       "2        2013-03-19 23:14:52                         0   \n",
       "3        2013-05-22 08:09:28                         0   \n",
       "4        2013-01-22 10:14:20                         0   \n",
       "5        2013-12-19 03:37:06                         0   \n",
       "6        2012-12-20 13:24:32                         0   \n",
       "7        2013-07-31 05:34:02                         1   \n",
       "8        2013-11-05 04:04:24                         0   \n",
       "9        2014-06-03 22:08:03                         1   \n",
       "\n",
       "   enabled_for_marketing_drip  org_id  invited_by_user_id      ...       \\\n",
       "0                           0      11             10803.0      ...        \n",
       "1                           0       1               316.0      ...        \n",
       "2                           0      94              1525.0      ...        \n",
       "3                           0       1              5151.0      ...        \n",
       "4                           0     193              5240.0      ...        \n",
       "5                           0     197             11241.0      ...        \n",
       "6                           1      37              -999.0      ...        \n",
       "7                           1      74              -999.0      ...        \n",
       "8                           0     302              -999.0      ...        \n",
       "9                           1     318              4143.0      ...        \n",
       "\n",
       "   email_company adopted  email_count  creation_time_year  \\\n",
       "0       yahoocom       0         2447                2014   \n",
       "1       gustrcom       1         1179                2013   \n",
       "2       gustrcom       0         1179                2013   \n",
       "3       yahoocom       0         2447                2013   \n",
       "4       yahoocom       0         2447                2013   \n",
       "5       yahoocom       0         2447                2013   \n",
       "6  jourrapidecom       0         1259                2012   \n",
       "7       yahoocom       0         2447                2013   \n",
       "8     hotmailcom       0         1165                2013   \n",
       "9       gustrcom       1         1179                2013   \n",
       "\n",
       "   creation_time_month  last_session_year  last_session_month  \\\n",
       "0                    4               2014                   4   \n",
       "1                   11               2014                   3   \n",
       "2                    3               2013                   3   \n",
       "3                    5               2013                   5   \n",
       "4                    1               2013                   1   \n",
       "5                   12               2013                  12   \n",
       "6                   12               2012                  12   \n",
       "7                    7               2013                   7   \n",
       "8                   11               2013                  11   \n",
       "9                    1               2014                   6   \n",
       "\n",
       "   last_session_dow  email_label  source_label  \n",
       "0                 1        763.0           0.0  \n",
       "1                 0        213.0           1.0  \n",
       "2                 1        213.0           1.0  \n",
       "3                 2        763.0           0.0  \n",
       "4                 1        763.0           0.0  \n",
       "5                 3        763.0           0.0  \n",
       "6                 3        303.0           3.0  \n",
       "7                 2        763.0           2.0  \n",
       "8                 1        231.0           2.0  \n",
       "9                 1        213.0           1.0  \n",
       "\n",
       "[10 rows x 21 columns]"
      ]
     },
     "execution_count": 363,
     "metadata": {},
     "output_type": "execute_result"
    }
   ],
   "source": [
    "# convert categorical data to numerical\n",
    "from sklearn.preprocessing import OneHotEncoder,LabelEncoder\n",
    "label = LabelEncoder()\n",
    "email_label = label.fit_transform(user_df['email_company'])\n",
    "source_label = label.fit_transform(user_df['creation_source'])\n",
    "user_df['email_label'] = pd.Series(email_label)\n",
    "user_df['source_label'] = pd.Series(source_label)\n",
    "user_df.head(10)\n"
   ]
  },
  {
   "cell_type": "code",
   "execution_count": 366,
   "metadata": {},
   "outputs": [
    {
     "name": "stdout",
     "output_type": "stream",
     "text": [
      "<class 'pandas.core.frame.DataFrame'>\n",
      "Int64Index: 11270 entries, 0 to 11628\n",
      "Data columns (total 11 columns):\n",
      "opted_in_to_mailing_list      11270 non-null int64\n",
      "enabled_for_marketing_drip    11270 non-null int64\n",
      "org_id                        11270 non-null int64\n",
      "invited_by_user_id            11270 non-null float64\n",
      "creation_time_year            11270 non-null int64\n",
      "creation_time_month           11270 non-null int64\n",
      "last_session_year             11270 non-null int64\n",
      "last_session_month            11270 non-null int64\n",
      "last_session_dow              11270 non-null int64\n",
      "email_label                   11270 non-null float64\n",
      "source_label                  11270 non-null float64\n",
      "dtypes: float64(3), int64(8)\n",
      "memory usage: 1.0 MB\n"
     ]
    }
   ],
   "source": [
    "fea_list = ['opted_in_to_mailing_list','enabled_for_marketing_drip','org_id','invited_by_user_id','creation_time_year',\n",
    "           'creation_time_month','last_session_year','last_session_month','last_session_dow','email_label','source_label']\n",
    "user_df.dropna(inplace=True)\n",
    "X = user_df[fea_list]\n",
    "y = user_df['adopted']\n",
    "X.info()"
   ]
  },
  {
   "cell_type": "code",
   "execution_count": 367,
   "metadata": {},
   "outputs": [],
   "source": [
    "from sklearn.model_selection import train_test_split\n",
    "X_train,X_test,y_train,y_test = train_test_split(X,y,test_size=0.3,stratify=y,random_state=12)"
   ]
  },
  {
   "cell_type": "code",
   "execution_count": 368,
   "metadata": {},
   "outputs": [],
   "source": [
    "#random forest\n",
    "#parameter tuning for random forest\n",
    "from sklearn.ensemble import RandomForestClassifier\n",
    "from sklearn.model_selection import GridSearchCV\n",
    "\n",
    "pipeline = Pipeline([('scaler',StandardScaler()),('classifier', RandomForestClassifier())])\n",
    "                      \n",
    "param_dict = {'classifier__n_estimators':[100,150],'classifier__max_depth':[5,10],'classifier__min_samples_leaf':[2,3],'classifier__max_features':[3,5],'classifier__random_state':[12]}\n",
    "\n",
    "cv = GridSearchCV(pipeline,param_grid=param_dict)"
   ]
  },
  {
   "cell_type": "code",
   "execution_count": 369,
   "metadata": {},
   "outputs": [
    {
     "name": "stdout",
     "output_type": "stream",
     "text": [
      "{'classifier__max_depth': 10, 'classifier__max_features': 5, 'classifier__min_samples_leaf': 2, 'classifier__n_estimators': 100, 'classifier__random_state': 12}\n",
      "0.9672962352642921\n"
     ]
    }
   ],
   "source": [
    "cv.fit(X_train,y_train)\n",
    "print(cv.best_params_)\n",
    "print(cv.best_score_)"
   ]
  },
  {
   "cell_type": "code",
   "execution_count": 371,
   "metadata": {},
   "outputs": [
    {
     "name": "stdout",
     "output_type": "stream",
     "text": [
      "accuracy score on train set is: 0.9828875649638737\n",
      "f1 score on train set is: 0.9353757778841553\n",
      "area under roc curve on train set is: 0.9472245241832948\n",
      "accuracy score on test set is: 0.9727891156462585\n",
      "f1 score on test set is: 0.8968609865470852\n",
      "area under roc curve on test set is: 0.9239758883864208\n"
     ]
    }
   ],
   "source": [
    "from sklearn.metrics import accuracy_score\n",
    "from sklearn.metrics import f1_score\n",
    "from sklearn.metrics import roc_auc_score\n",
    "y_tr_pre = cv.predict(X_train)\n",
    "y_ts_pre = cv.predict(X_test)\n",
    "print(\"accuracy score on train set is:\",accuracy_score(y_train,y_tr_pre))\n",
    "print(\"f1 score on train set is:\",f1_score(y_train,y_tr_pre))\n",
    "print(\"area under roc curve on train set is:\",roc_auc_score(y_train,y_tr_pre))\n",
    "print(\"accuracy score on test set is:\",accuracy_score(y_test,y_ts_pre))\n",
    "print(\"f1 score on test set is:\",f1_score(y_test,y_ts_pre))\n",
    "print(\"area under roc curve on test set is:\",roc_auc_score(y_test,y_ts_pre))"
   ]
  },
  {
   "cell_type": "code",
   "execution_count": 372,
   "metadata": {},
   "outputs": [
    {
     "data": {
      "text/plain": [
       "array([0.00265877, 0.00255743, 0.02835232, 0.02036355, 0.25874054,\n",
       "       0.28231516, 0.16280742, 0.20306018, 0.01676336, 0.01361942,\n",
       "       0.00876183])"
      ]
     },
     "execution_count": 372,
     "metadata": {},
     "output_type": "execute_result"
    }
   ],
   "source": [
    "importances = cv.best_estimator_.named_steps[\"classifier\"].feature_importances_\n",
    "importances"
   ]
  },
  {
   "cell_type": "markdown",
   "metadata": {},
   "source": [
    "<div class=\"alert alert-success\">\n",
    "<b> Summary of modeling: </b>  \n",
    "- 11 features are used to model whether a user is adopted   \n",
    "- Random Forest Classification is used since it gives insights on feature importance  \n",
    "- categorical features are converted to numerical labels   \n",
    "- Model performs well on both training and test data  \n",
    "- The most important features are 'creation_time_year','creation_time_month','last_session_month','last_session_year'\n",
    "</div>"
   ]
  },
  {
   "cell_type": "code",
   "execution_count": null,
   "metadata": {},
   "outputs": [],
   "source": []
  }
 ],
 "metadata": {
  "kernelspec": {
   "display_name": "Python 3",
   "language": "python",
   "name": "python3"
  },
  "language_info": {
   "codemirror_mode": {
    "name": "ipython",
    "version": 3
   },
   "file_extension": ".py",
   "mimetype": "text/x-python",
   "name": "python",
   "nbconvert_exporter": "python",
   "pygments_lexer": "ipython3",
   "version": "3.6.4"
  }
 },
 "nbformat": 4,
 "nbformat_minor": 2
}
